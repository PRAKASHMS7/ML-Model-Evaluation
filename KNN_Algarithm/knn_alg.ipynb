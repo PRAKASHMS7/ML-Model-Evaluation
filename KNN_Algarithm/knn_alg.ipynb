{
  "nbformat": 4,
  "nbformat_minor": 0,
  "metadata": {
    "colab": {
      "provenance": [],
      "authorship_tag": "ABX9TyPrRezPxA25zLB2Is6wGw2g",
      "include_colab_link": true
    },
    "kernelspec": {
      "name": "python3",
      "display_name": "Python 3"
    },
    "language_info": {
      "name": "python"
    }
  },
  "cells": [
    {
      "cell_type": "markdown",
      "metadata": {
        "id": "view-in-github",
        "colab_type": "text"
      },
      "source": [
        "<a href=\"https://colab.research.google.com/github/PRAKASHMS7/ML-Model-Evaluation/blob/main/KNN_Algarithm/knn_alg.ipynb\" target=\"_parent\"><img src=\"https://colab.research.google.com/assets/colab-badge.svg\" alt=\"Open In Colab\"/></a>"
      ]
    },
    {
      "cell_type": "code",
      "execution_count": null,
      "metadata": {
        "colab": {
          "base_uri": "https://localhost:8080/",
          "height": 430
        },
        "id": "GYGfoI2W-Wor",
        "outputId": "3fb115bd-b669-4dba-f693-f6aa3f560035"
      },
      "outputs": [
        {
          "output_type": "display_data",
          "data": {
            "text/plain": [
              "<Figure size 640x480 with 1 Axes>"
            ],
            "image/png": "[encoded data removed]"
          },
          "metadata": {}
        }
      ],
      "source": [
        "import numpy as np\n",
        "import matplotlib.pyplot as plt\n",
        "x = [5,2,1,3,7,8,2,4]\n",
        "y = [12,15,18,24,25,28,30,16]\n",
        "classes=[1,0,1,0,0,1,0,1]\n",
        "plt.scatter(x,y, c=classes)\n",
        "plt.show()"
      ]
    },
    {
      "cell_type": "code",
      "source": [
        "from sklearn.neighbors import KNeighborsClassifier#imports the KNeighborsClassifier class from the sklearn.neighbors module\n",
        "data=list(zip(x,y))#This line creates a list of tuples by zipping together the arrays x and y.This format is suitable for inputting into the fit method of the classifier.\n",
        "knn=KNeighborsClassifier(n_neighbors=2)\n",
        "knn.fit(data,classes)#fit method uses this information to associate each data point with its class label during training.\n",
        "\n"
      ],
      "metadata": {
        "colab": {
          "base_uri": "https://localhost:8080/",
          "height": 74
        },
        "id": "zsPKlkBZARGY",
        "outputId": "1c056d1c-b50f-4afb-848e-a8a08d008ce5"
      },
      "execution_count": null,
      "outputs": [
        {
          "output_type": "execute_result",
          "data": {
            "text/plain": [
              "KNeighborsClassifier(n_neighbors=2)"
            ],
            "text/html": [
              "<style>#sk-container-id-7 {color: black;background-color: white;}#sk-container-id-7 pre{padding: 0;}#sk-container-id-7 div.sk-toggleable {background-color: white;}#sk-container-id-7 label.sk-toggleable__label {cursor: pointer;display: block;width: 100%;margin-bottom: 0;padding: 0.3em;box-sizing: border-box;text-align: center;}#sk-container-id-7 label.sk-toggleable__label-arrow:before {content: \"▸\";float: left;margin-right: 0.25em;color: #696969;}#sk-container-id-7 label.sk-toggleable__label-arrow:hover:before {color: black;}#sk-container-id-7 div.sk-estimator:hover label.sk-toggleable__label-arrow:before {color: black;}#sk-container-id-7 div.sk-toggleable__content {max-height: 0;max-width: 0;overflow: hidden;text-align: left;background-color: #f0f8ff;}#sk-container-id-7 div.sk-toggleable__content pre {margin: 0.2em;color: black;border-radius: 0.25em;background-color: #f0f8ff;}#sk-container-id-7 input.sk-toggleable__control:checked~div.sk-toggleable__content {max-height: 200px;max-width: 100%;overflow: auto;}#sk-container-id-7 input.sk-toggleable__control:checked~label.sk-toggleable__label-arrow:before {content: \"▾\";}#sk-container-id-7 div.sk-estimator input.sk-toggleable__control:checked~label.sk-toggleable__label {background-color: #d4ebff;}#sk-container-id-7 div.sk-label input.sk-toggleable__control:checked~label.sk-toggleable__label {background-color: #d4ebff;}#sk-container-id-7 input.sk-hidden--visually {border: 0;clip: rect(1px 1px 1px 1px);clip: rect(1px, 1px, 1px, 1px);height: 1px;margin: -1px;overflow: hidden;padding: 0;position: absolute;width: 1px;}#sk-container-id-7 div.sk-estimator {font-family: monospace;background-color: #f0f8ff;border: 1px dotted black;border-radius: 0.25em;box-sizing: border-box;margin-bottom: 0.5em;}#sk-container-id-7 div.sk-estimator:hover {background-color: #d4ebff;}#sk-container-id-7 div.sk-parallel-item::after {content: \"\";width: 100%;border-bottom: 1px solid gray;flex-grow: 1;}#sk-container-id-7 div.sk-label:hover label.sk-toggleable__label {background-color: #d4ebff;}#sk-container-id-7 div.sk-serial::before {content: \"\";position: absolute;border-left: 1px solid gray;box-sizing: border-box;top: 0;bottom: 0;left: 50%;z-index: 0;}#sk-container-id-7 div.sk-serial {display: flex;flex-direction: column;align-items: center;background-color: white;padding-right: 0.2em;padding-left: 0.2em;position: relative;}#sk-container-id-7 div.sk-item {position: relative;z-index: 1;}#sk-container-id-7 div.sk-parallel {display: flex;align-items: stretch;justify-content: center;background-color: white;position: relative;}#sk-container-id-7 div.sk-item::before, #sk-container-id-7 div.sk-parallel-item::before {content: \"\";position: absolute;border-left: 1px solid gray;box-sizing: border-box;top: 0;bottom: 0;left: 50%;z-index: -1;}#sk-container-id-7 div.sk-parallel-item {display: flex;flex-direction: column;z-index: 1;position: relative;background-color: white;}#sk-container-id-7 div.sk-parallel-item:first-child::after {align-self: flex-end;width: 50%;}#sk-container-id-7 div.sk-parallel-item:last-child::after {align-self: flex-start;width: 50%;}#sk-container-id-7 div.sk-parallel-item:only-child::after {width: 0;}#sk-container-id-7 div.sk-dashed-wrapped {border: 1px dashed gray;margin: 0 0.4em 0.5em 0.4em;box-sizing: border-box;padding-bottom: 0.4em;background-color: white;}#sk-container-id-7 div.sk-label label {font-family: monospace;font-weight: bold;display: inline-block;line-height: 1.2em;}#sk-container-id-7 div.sk-label-container {text-align: center;}#sk-container-id-7 div.sk-container {/* jupyter's `normalize.less` sets `[hidden] { display: none; }` but bootstrap.min.css set `[hidden] { display: none !important; }` so we also need the `!important` here to be able to override the default hidden behavior on the sphinx rendered scikit-learn.org. See: https://github.com/scikit-learn/scikit-learn/issues/21755 */display: inline-block !important;position: relative;}#sk-container-id-7 div.sk-text-repr-fallback {display: none;}</style><div id=\"sk-container-id-7\" class=\"sk-top-container\"><div class=\"sk-text-repr-fallback\"><pre>KNeighborsClassifier(n_neighbors=2)</pre><b>In a Jupyter environment, please rerun this cell to show the HTML representation or trust the notebook. <br />On GitHub, the HTML representation is unable to render, please try loading this page with nbviewer.org.</b></div><div class=\"sk-container\" hidden><div class=\"sk-item\"><div class=\"sk-estimator sk-toggleable\"><input class=\"sk-toggleable__control sk-hidden--visually\" id=\"sk-estimator-id-7\" type=\"checkbox\" checked><label for=\"sk-estimator-id-7\" class=\"sk-toggleable__label sk-toggleable__label-arrow\">KNeighborsClassifier</label><div class=\"sk-toggleable__content\"><pre>KNeighborsClassifier(n_neighbors=2)</pre></div></div></div></div></div>"
            ]
          },
          "metadata": {},
          "execution_count": 90
        }
      ]
    },
    {
      "cell_type": "code",
      "source": [
        "p=7\n",
        "s=24\n",
        "new_point=[(p,s)]\n",
        "predicted_class = knn.predict(new_point)[0] #[0]: This indexing selects the first (and only) element of the list returned by predict, which is the predicted class for the new data point."
      ],
      "metadata": {
        "id": "GPViNpUtBg0M"
      },
      "execution_count": null,
      "outputs": []
    },
    {
      "cell_type": "code",
      "source": [
        "distances = [np.sqrt((p - x[i])**2 + (s - y[i])**2) for i in range(len(x))]\n",
        "\n",
        "print(\"Euclidean distances from the new point to each existing point:\")\n",
        "for i, d in enumerate(distances):#i represents the index of the current element in the distances list.\n",
        "#d represents the value (Euclidean distance) at the current index.\n",
        "#enumurating means extracting the information from the data\n",
        "       print(f\"Point ({x[i]}, {y[i]}) -> Distance: {d} --> Class: {classes[i]}\")\n",
        "\n",
        "print(f\"The predicted class for the new point ({p}, {s}) is = {predicted_class}\")"
      ],
      "metadata": {
        "colab": {
          "base_uri": "https://localhost:8080/"
        },
        "id": "VIqp-7HIM-Wn",
        "outputId": "da9179e8-deca-4b00-a7b4-82a59d2b43a6"
      },
      "execution_count": null,
      "outputs": [
        {
          "output_type": "stream",
          "name": "stdout",
          "text": [
            "Euclidean distances from the new point to each existing point:\n",
            "Point (5, 12) -> Distance: 12.165525060596439 --> Class: 1\n",
            "Point (2, 15) -> Distance: 10.295630140987 --> Class: 0\n",
            "Point (1, 18) -> Distance: 8.48528137423857 --> Class: 1\n",
            "Point (3, 24) -> Distance: 4.0 --> Class: 0\n",
            "Point (7, 25) -> Distance: 1.0 --> Class: 0\n",
            "Point (8, 28) -> Distance: 4.123105625617661 --> Class: 1\n",
            "Point (2, 30) -> Distance: 7.810249675906654 --> Class: 0\n",
            "Point (4, 16) -> Distance: 8.54400374531753 --> Class: 1\n",
            "The predicted class for the new point (7, 24) is = 0\n"
          ]
        }
      ]
    },
    {
      "cell_type": "code",
      "source": [
        "plt.scatter(x, y, c=classes,  label='Existing points')\n",
        "plt.scatter(p, s, c='red', marker='*',s=200, label='New point')\n",
        "plt.legend()# legend means box or area\n",
        "plt.xlabel('X-axis')\n",
        "plt.ylabel('Y-axis')\n",
        "plt.title('K-Nearest Neighbors Classification')\n",
        "plt.show()\n",
        "\n",
        "\n"
      ],
      "metadata": {
        "colab": {
          "base_uri": "https://localhost:8080/",
          "height": 472
        },
        "id": "g0IiU_EHNmFN",
        "outputId": "79fe810d-b0ec-4e57-fa6d-3cfb557d5315"
      },
      "execution_count": null,
      "outputs": [
        {
          "output_type": "display_data",
          "data": {
            "text/plain": [
              "<Figure size 640x480 with 1 Axes>"
            ],
            "image/png": "[encoded data removed]"
          },
          "metadata": {}
        }
      ]
    },
    {
      "cell_type": "code",
      "source": [
        "import pandas as pd\n",
        "from sklearn.model_selection import train_test_split\n",
        "from sklearn.preprocessing import LabelEncoder\n",
        "from sklearn.ensemble import RandomForestClassifier\n",
        "import numpy as np\n",
        "\n",
        "\n",
        "file_path = '/content/All.csv'\n",
        "data = pd.read_csv(file_path)\n",
        "\n",
        "data = data.dropna()\n",
        "\n",
        "X = data.drop(columns=['URL_Type_obf_Type'])\n",
        "y = data['URL_Type_obf_Type']\n",
        "\n",
        "\n",
        "label_encoder = LabelEncoder()\n",
        "y_encoded = label_encoder.fit_transform(y)\n",
        "\n",
        "\n",
        "X_train, X_test, y_train, y_test = train_test_split(X, y_encoded, test_size=0.3, random_state=42)\n",
        "\n",
        "rf_model = RandomForestClassifier(n_estimators=100, random_state=42)\n",
        "rf_model.fit(X_train, y_train)\n",
        "\n",
        "feature_importances = rf_model.feature_importances_\n",
        "indices = np.argsort(feature_importances)[::-1]\n",
        "\n",
        "# Get the names of the features\n",
        "feature_names = X.columns\n",
        "\n",
        "# Extract the top 20 features\n",
        "top_20_features = feature_names[indices][:20]\n",
        "top_20_importances = feature_importances[indices][:20]\n",
        "\n",
        "\n",
        "top_20_features_df = pd.DataFrame({\n",
        "    'Feature': top_20_features,\n",
        "    'Importance': top_20_importances\n",
        "})\n",
        "\n",
        "print(top_20_features_df)\n"
      ],
      "metadata": {
        "colab": {
          "base_uri": "https://localhost:8080/"
        },
        "id": "7TMcFj5VeNPF",
        "outputId": "a57b33a9-7799-44b3-a06b-c3587535e24b"
      },
      "execution_count": null,
      "outputs": [
        {
          "output_type": "stream",
          "name": "stdout",
          "text": [
            "                    Feature  Importance\n",
            "0         avgdomaintokenlen    0.040538\n",
            "1       NumberRate_FileName    0.031043\n",
            "2     Extension_LetterCount    0.028178\n",
            "3      Extension_DigitCount    0.027313\n",
            "4              domainlength    0.027128\n",
            "5              pathurlRatio    0.026178\n",
            "6                    urlLen    0.025787\n",
            "7        SymbolCount_Domain    0.025245\n",
            "8   CharacterContinuityRate    0.024087\n",
            "9        domain_token_count    0.023021\n",
            "10              fileNameLen    0.022732\n",
            "11               pathLength    0.022573\n",
            "12                subDirLen    0.022143\n",
            "13                      tld    0.022104\n",
            "14           domainUrlRatio    0.020630\n",
            "15   LongestPathTokenLength    0.020625\n",
            "16       longdomaintokenlen    0.020521\n",
            "17           Entropy_Domain    0.020205\n",
            "18          pathDomainRatio    0.019663\n",
            "19        host_letter_count    0.019400\n"
          ]
        }
      ]
    },
    {
      "cell_type": "code",
      "source": [
        "import pandas as pd\n",
        "from sklearn.model_selection import train_test_split\n",
        "from sklearn.preprocessing import LabelEncoder, StandardScaler\n",
        "from sklearn.neighbors import KNeighborsClassifier\n",
        "from sklearn.metrics import accuracy_score, precision_score, recall_score, f1_score, classification_report\n",
        "from sklearn.ensemble import RandomForestClassifier\n",
        "import numpy as np\n",
        "\n",
        "file_path = '/content/All.csv'\n",
        "data = pd.read_csv(file_path)\n",
        "\n",
        "data = data.dropna()\n",
        "\n",
        "X = data.drop(columns=['URL_Type_obf_Type'])\n",
        "y = data['URL_Type_obf_Type']\n",
        "\n",
        "\n",
        "label_encoder = LabelEncoder()\n",
        "y_encoded = label_encoder.fit_transform(y)\n",
        "\n",
        "rf_model = RandomForestClassifier(n_estimators=100, random_state=42)\n",
        "rf_model.fit(X, y_encoded)\n",
        "\n",
        "feature_importances = rf_model.feature_importances_\n",
        "indices = np.argsort(feature_importances)[::-1]\n",
        "\n",
        "\n",
        "feature_names = X.columns\n",
        "\n",
        "top_20_features = feature_names[indices][:20]\n",
        "\n",
        "\n",
        "X_top_20 = X[top_20_features]\n",
        "\n",
        "\n",
        "scaler = StandardScaler()\n",
        "X_top_20 = scaler.fit_transform(X_top_20)\n",
        "\n",
        "X_train, X_test, y_train, y_test = train_test_split(X_top_20, y_encoded, test_size=0.3, random_state=42)\n",
        "\n",
        "knn_model = KNeighborsClassifier(n_neighbors=5)\n",
        "knn_model.fit(X_train, y_train)\n",
        "\n",
        "\n",
        "y_pred = knn_model.predict(X_test)\n",
        "\n",
        "accuracy = accuracy_score(y_test, y_pred)\n",
        "precision = precision_score(y_test, y_pred, average='weighted')\n",
        "recall = recall_score(y_test, y_pred, average='weighted')\n",
        "f1 = f1_score(y_test, y_pred, average='weighted')\n",
        "report = classification_report(y_test, y_pred, target_names=label_encoder.classes_)\n",
        "\n",
        "\n",
        "print(f'Accuracy: {accuracy}')\n",
        "print(f'Precision: {precision}')\n",
        "print(f'Recall: {recall}')\n",
        "print(f'F1 Score: {f1}')\n",
        "print(f'Classification Report:\\n{report}')\n"
      ],
      "metadata": {
        "colab": {
          "base_uri": "https://localhost:8080/"
        },
        "id": "4avH0KKDheW6",
        "outputId": "6cef41b2-3166-4554-b8f3-2ab888739ae6"
      },
      "execution_count": null,
      "outputs": [
        {
          "output_type": "stream",
          "name": "stdout",
          "text": [
            "Accuracy: 0.93099209833187\n",
            "Precision: 0.9311944738791005\n",
            "Recall: 0.93099209833187\n",
            "F1 Score: 0.9304651269346493\n",
            "Classification Report:\n",
            "              precision    recall  f1-score   support\n",
            "\n",
            "  Defacement       0.90      0.95      0.92       719\n",
            "      benign       0.89      0.95      0.92       806\n",
            "     malware       0.94      0.94      0.94      1347\n",
            "    phishing       0.91      0.83      0.87      1222\n",
            "        spam       0.98      0.98      0.98      1601\n",
            "\n",
            "    accuracy                           0.93      5695\n",
            "   macro avg       0.92      0.93      0.93      5695\n",
            "weighted avg       0.93      0.93      0.93      5695\n",
            "\n"
          ]
        }
      ]
    }
  ]
}