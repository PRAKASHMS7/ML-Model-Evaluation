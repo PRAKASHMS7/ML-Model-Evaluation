{
  "nbformat": 4,
  "nbformat_minor": 0,
  "metadata": {
    "colab": {
      "provenance": [],
      "authorship_tag": "ABX9TyO03eJBrTM1FIHJBQ8y2C9R",
      "include_colab_link": true
    },
    "kernelspec": {
      "name": "python3",
      "display_name": "Python 3"
    },
    "language_info": {
      "name": "python"
    }
  },
  "cells": [
    {
      "cell_type": "markdown",
      "metadata": {
        "id": "view-in-github",
        "colab_type": "text"
      },
      "source": [
        "<a href=\"https://colab.research.google.com/github/PRAKASHMS7/ML-Model-Evaluation/blob/main/Randomforest_Model/Randomforest.ipynb\" target=\"_parent\"><img src=\"https://colab.research.google.com/assets/colab-badge.svg\" alt=\"Open In Colab\"/></a>"
      ]
    },
    {
      "cell_type": "code",
      "source": [
        "import pandas as pd\n",
        "from sklearn.ensemble import RandomForestClassifier\n",
        "from sklearn.model_selection import train_test_split\n",
        "from sklearn.preprocessing import LabelEncoder\n",
        "from sklearn.metrics import accuracy_score\n",
        "\n",
        "data = {\n",
        "    'AGE': [25, 38, 52, 19, 45, 31, 22, 60, 35, 28, 42, 55, 20, 58, 33],\n",
        "    'INCOME': ['Low', 'Medium', 'High', 'Low', 'Medium', 'High',\n",
        "               'Low', 'Medium', 'High', 'Low', 'Medium', 'High',\n",
        "               'Low', 'Medium', 'High'],\n",
        "    'LOCATION': ['Urban', 'Suburban', 'Urban', 'Rural', 'Suburban',\n",
        "                 'Urban', 'Rural', 'Suburban', 'Urban', 'Rural',\n",
        "                 'Suburban', 'Urban', 'Rural', 'Suburban', 'Urban'],\n",
        "    'PURCHASE': ['No', 'Yes', 'Yes', 'No', 'Yes', 'No', 'No', 'Yes',\n",
        "                 'Yes', 'No', 'Yes', 'No', 'No', 'Yes', 'Yes']\n",
        "}\n",
        "\n",
        "df = pd.DataFrame(data)\n",
        "\n",
        "\n",
        "encoder = LabelEncoder()\n",
        "df['INCOME'] = encoder.fit_transform(df['INCOME'])\n",
        "df['LOCATION'] = encoder.fit_transform(df['LOCATION'])\n",
        "df['PURCHASE'] = encoder.fit_transform(df['PURCHASE'])\n",
        "\n",
        "X = df.drop('PURCHASE', axis=1)\n",
        "y = df['PURCHASE']\n",
        "\n",
        "X_train, X_test, y_train, y_test = train_test_split(X, y, test_size=0.2, random_state=42)\n",
        "\n",
        "model = RandomForestClassifier(n_estimators=100, random_state=42)\n",
        "model.fit(X_train, y_train)\n",
        "\n",
        "predictions = model.predict(X_test)\n",
        "\n",
        "\n",
        "purchase_mapping = {0: 'No', 1: 'Yes'}\n",
        "predictions_mapped = [purchase_mapping[pred] for pred in predictions]\n",
        "true_values_mapped = [purchase_mapping[true] for true in y_test]\n",
        "\n",
        "\n",
        "for i in range(len(predictions)):\n",
        "    pred_label = 'Yes' if predictions[i] == 1 else 'No'\n",
        "    true_label = 'Yes' if y_test.iloc[i] == 1 else 'No'\n",
        "    print(f\"Data point {i+1}: Predicted={predictions[i]} ({pred_label}), Actual={y_test.iloc[i]} ({true_label})\")\n",
        "print(f\"True values: {list(y_test)}\")\n",
        "print(f\"Predicted values: {list(predictions)}\")\n",
        "print(f\"Final predictions (majority vote): {list(predictions)}\")\n",
        "\n",
        "accuracy = accuracy_score(y_test, predictions)\n",
        "print(f\"Accuracy: {accuracy:.2f}\")\n"
      ],
      "metadata": {
        "colab": {
          "base_uri": "https://localhost:8080/"
        },
        "id": "aHp_wswgTbpN",
        "outputId": "793a222c-4703-4f7e-d988-15b308a50c04"
      },
      "execution_count": null,
      "outputs": [
        {
          "output_type": "stream",
          "name": "stdout",
          "text": [
            "Data point 1: Predicted=0 (No), Actual=0 (No)\n",
            "Data point 2: Predicted=1 (Yes), Actual=0 (No)\n",
            "Data point 3: Predicted=0 (No), Actual=0 (No)\n",
            "True values: [0, 0, 0]\n",
            "Predicted values: [0, 1, 0]\n",
            "Final predictions (majority vote): [0, 1, 0]\n",
            "Accuracy: 0.67\n"
          ]
        }
      ]
    },
    {
      "cell_type": "code",
      "source": [
        "#The dataset contains 36,707 entries and 80 columns, with a mix of integer and float types. Here’s a detailed plan to fulfill the obligations for data quality and preprocessing:\n",
        "#Collecting Sufficient Data: Ensure the dataset is large and representative enough for the model to learn effectively.\n",
        "#Cleaning Data: Handle missing values, outliers, and errors in the dataset.\n",
        "#Normalization and Standardization: Scale features appropriately to ensure the model performs well.\n",
        "#Feature Engineering: Create relevant features that improve model performance.\n",
        "#Splitting Data: Divide data into training, validation, and test sets to evaluate model performance correctly.\n",
        "\n"
      ],
      "metadata": {
        "id": "vAIc0jt0BSDX"
      },
      "execution_count": null,
      "outputs": []
    },
    {
      "cell_type": "code",
      "source": [
        "import pandas as pd\n",
        "\n",
        "file_path = '/content/All.csv'\n",
        "data = pd.read_csv(file_path)\n",
        "\n",
        "data.head(), data.info(), data.describe()\n"
      ],
      "metadata": {
        "colab": {
          "base_uri": "https://localhost:8080/"
        },
        "id": "ZlYWfv913tbr",
        "outputId": "b0dc667f-e57b-456b-d851-16c38e7d2979"
      },
      "execution_count": null,
      "outputs": [
        {
          "output_type": "stream",
          "name": "stdout",
          "text": [
            "<class 'pandas.core.frame.DataFrame'>\n",
            "RangeIndex: 36707 entries, 0 to 36706\n",
            "Data columns (total 80 columns):\n",
            " #   Column                           Non-Null Count  Dtype  \n",
            "---  ------                           --------------  -----  \n",
            " 0   Querylength                      36707 non-null  int64  \n",
            " 1   domain_token_count               36707 non-null  int64  \n",
            " 2   path_token_count                 36707 non-null  int64  \n",
            " 3   avgdomaintokenlen                36707 non-null  float64\n",
            " 4   longdomaintokenlen               36707 non-null  int64  \n",
            " 5   avgpathtokenlen                  36427 non-null  float64\n",
            " 6   tld                              36707 non-null  int64  \n",
            " 7   charcompvowels                   36707 non-null  int64  \n",
            " 8   charcompace                      36707 non-null  int64  \n",
            " 9   ldl_url                          36707 non-null  int64  \n",
            " 10  ldl_domain                       36707 non-null  int64  \n",
            " 11  ldl_path                         36707 non-null  int64  \n",
            " 12  ldl_filename                     36707 non-null  int64  \n",
            " 13  ldl_getArg                       36707 non-null  int64  \n",
            " 14  dld_url                          36707 non-null  int64  \n",
            " 15  dld_domain                       36707 non-null  int64  \n",
            " 16  dld_path                         36707 non-null  int64  \n",
            " 17  dld_filename                     36707 non-null  int64  \n",
            " 18  dld_getArg                       36707 non-null  int64  \n",
            " 19  urlLen                           36707 non-null  int64  \n",
            " 20  domainlength                     36707 non-null  int64  \n",
            " 21  pathLength                       36707 non-null  int64  \n",
            " 22  subDirLen                        36707 non-null  int64  \n",
            " 23  fileNameLen                      36707 non-null  int64  \n",
            " 24  this.fileExtLen                  36707 non-null  int64  \n",
            " 25  ArgLen                           36707 non-null  int64  \n",
            " 26  pathurlRatio                     36707 non-null  float64\n",
            " 27  ArgUrlRatio                      36707 non-null  float64\n",
            " 28  argDomanRatio                    36707 non-null  float64\n",
            " 29  domainUrlRatio                   36707 non-null  float64\n",
            " 30  pathDomainRatio                  36707 non-null  float64\n",
            " 31  argPathRatio                     36707 non-null  float64\n",
            " 32  executable                       36707 non-null  int64  \n",
            " 33  isPortEighty                     36707 non-null  int64  \n",
            " 34  NumberofDotsinURL                36707 non-null  int64  \n",
            " 35  ISIpAddressInDomainName          36707 non-null  int64  \n",
            " 36  CharacterContinuityRate          36707 non-null  float64\n",
            " 37  LongestVariableValue             36707 non-null  int64  \n",
            " 38  URL_DigitCount                   36707 non-null  int64  \n",
            " 39  host_DigitCount                  36707 non-null  int64  \n",
            " 40  Directory_DigitCount             36707 non-null  int64  \n",
            " 41  File_name_DigitCount             36707 non-null  int64  \n",
            " 42  Extension_DigitCount             36707 non-null  int64  \n",
            " 43  Query_DigitCount                 36707 non-null  int64  \n",
            " 44  URL_Letter_Count                 36707 non-null  int64  \n",
            " 45  host_letter_count                36707 non-null  int64  \n",
            " 46  Directory_LetterCount            36707 non-null  int64  \n",
            " 47  Filename_LetterCount             36707 non-null  int64  \n",
            " 48  Extension_LetterCount            36707 non-null  int64  \n",
            " 49  Query_LetterCount                36707 non-null  int64  \n",
            " 50  LongestPathTokenLength           36707 non-null  int64  \n",
            " 51  Domain_LongestWordLength         36707 non-null  int64  \n",
            " 52  Path_LongestWordLength           36707 non-null  int64  \n",
            " 53  sub-Directory_LongestWordLength  36707 non-null  int64  \n",
            " 54  Arguments_LongestWordLength      36707 non-null  int64  \n",
            " 55  URL_sensitiveWord                36707 non-null  int64  \n",
            " 56  URLQueries_variable              36707 non-null  int64  \n",
            " 57  spcharUrl                        36707 non-null  int64  \n",
            " 58  delimeter_Domain                 36707 non-null  int64  \n",
            " 59  delimeter_path                   36707 non-null  int64  \n",
            " 60  delimeter_Count                  36707 non-null  int64  \n",
            " 61  NumberRate_URL                   36707 non-null  float64\n",
            " 62  NumberRate_Domain                36707 non-null  float64\n",
            " 63  NumberRate_DirectoryName         36697 non-null  float64\n",
            " 64  NumberRate_FileName              36697 non-null  float64\n",
            " 65  NumberRate_Extension             26577 non-null  float64\n",
            " 66  NumberRate_AfterPath             36704 non-null  float64\n",
            " 67  SymbolCount_URL                  36707 non-null  int64  \n",
            " 68  SymbolCount_Domain               36707 non-null  int64  \n",
            " 69  SymbolCount_Directoryname        36707 non-null  int64  \n",
            " 70  SymbolCount_FileName             36707 non-null  int64  \n",
            " 71  SymbolCount_Extension            36707 non-null  int64  \n",
            " 72  SymbolCount_Afterpath            36707 non-null  int64  \n",
            " 73  Entropy_URL                      36707 non-null  float64\n",
            " 74  Entropy_Domain                   36707 non-null  float64\n",
            " 75  Entropy_DirectoryName            28239 non-null  float64\n",
            " 76  Entropy_Filename                 36471 non-null  float64\n",
            " 77  Entropy_Extension                36667 non-null  float64\n",
            " 78  Entropy_Afterpath                36701 non-null  float64\n",
            " 79  URL_Type_obf_Type                36707 non-null  object \n",
            "dtypes: float64(21), int64(58), object(1)\n",
            "memory usage: 22.4+ MB\n"
          ]
        },
        {
          "output_type": "execute_result",
          "data": {
            "text/plain": [
              "(   Querylength  domain_token_count  path_token_count  avgdomaintokenlen  \\\n",
              " 0            0                   4                 5                5.5   \n",
              " 1            0                   4                 5                5.5   \n",
              " 2            0                   4                 5                5.5   \n",
              " 3            0                   4                12                5.5   \n",
              " 4            0                   4                 6                5.5   \n",
              " \n",
              "    longdomaintokenlen  avgpathtokenlen  tld  charcompvowels  charcompace  \\\n",
              " 0                  14         4.400000    4               8            3   \n",
              " 1                  14         6.000000    4              12            4   \n",
              " 2                  14         5.800000    4              12            5   \n",
              " 3                  14         5.500000    4              32           16   \n",
              " 4                  14         7.333334    4              18           11   \n",
              " \n",
              "    ldl_url  ...  SymbolCount_FileName  SymbolCount_Extension  \\\n",
              " 0        0  ...                     1                      0   \n",
              " 1        0  ...                     0                      0   \n",
              " 2        0  ...                     0                      0   \n",
              " 3        0  ...                     0                      0   \n",
              " 4        0  ...                     0                      0   \n",
              " \n",
              "    SymbolCount_Afterpath  Entropy_URL  Entropy_Domain  Entropy_DirectoryName  \\\n",
              " 0                     -1     0.726298        0.784493               0.894886   \n",
              " 1                     -1     0.688635        0.784493               0.814725   \n",
              " 2                     -1     0.695049        0.784493               0.814725   \n",
              " 3                     -1     0.640130        0.784493               0.814725   \n",
              " 4                     -1     0.681307        0.784493               0.814725   \n",
              " \n",
              "    Entropy_Filename  Entropy_Extension  Entropy_Afterpath  URL_Type_obf_Type  \n",
              " 0          0.850608                NaN               -1.0         Defacement  \n",
              " 1          0.859793                0.0               -1.0         Defacement  \n",
              " 2          0.801880                0.0               -1.0         Defacement  \n",
              " 3          0.663210                0.0               -1.0         Defacement  \n",
              " 4          0.804526                0.0               -1.0         Defacement  \n",
              " \n",
              " [5 rows x 80 columns],\n",
              " None,\n",
              "         Querylength  domain_token_count  path_token_count  avgdomaintokenlen  \\\n",
              " count  36707.000000        36707.000000      36707.000000       36707.000000   \n",
              " mean      21.908110            2.857439          8.954668           5.401719   \n",
              " std       94.280669            0.906562          4.278406           1.986858   \n",
              " min        0.000000            2.000000          0.000000           1.500000   \n",
              " 25%        0.000000            2.000000          6.000000           4.000000   \n",
              " 50%        0.000000            3.000000          8.000000           5.000000   \n",
              " 75%       19.000000            3.000000         11.000000           6.500000   \n",
              " max     1385.000000           19.000000         68.000000          29.500000   \n",
              " \n",
              "        longdomaintokenlen  avgpathtokenlen           tld  charcompvowels  \\\n",
              " count        36707.000000     36427.000000  36707.000000    36707.000000   \n",
              " mean             9.746016         4.556261      2.857439       14.976517   \n",
              " std              4.856580         2.839388      0.906562       13.351315   \n",
              " min              2.000000         0.000000      2.000000        0.000000   \n",
              " 25%              6.000000         3.000000      2.000000        7.000000   \n",
              " 50%              9.000000         4.100000      3.000000       13.000000   \n",
              " 75%             12.000000         5.000000      3.000000       19.000000   \n",
              " max             63.000000       105.000000     19.000000      193.000000   \n",
              " \n",
              "         charcompace       ldl_url  ...  SymbolCount_Directoryname  \\\n",
              " count  36707.000000  36707.000000  ...               36707.000000   \n",
              " mean      10.216117      3.363909  ...                   1.727545   \n",
              " std       10.845807     13.447289  ...                   2.719231   \n",
              " min        0.000000      0.000000  ...                  -1.000000   \n",
              " 25%        5.000000      0.000000  ...                  -1.000000   \n",
              " 50%        8.000000      0.000000  ...                   1.000000   \n",
              " 75%       12.000000      1.000000  ...                   3.000000   \n",
              " max      142.000000    207.000000  ...                  24.000000   \n",
              " \n",
              "        SymbolCount_FileName  SymbolCount_Extension  SymbolCount_Afterpath  \\\n",
              " count          36707.000000           36707.000000           36707.000000   \n",
              " mean               3.600049               2.685237               1.903261   \n",
              " std                4.783213               4.557171               4.512421   \n",
              " min               -1.000000              -1.000000              -1.000000   \n",
              " 25%                0.000000               0.000000              -1.000000   \n",
              " 50%                1.000000               0.000000              -1.000000   \n",
              " 75%                6.000000               4.000000               3.000000   \n",
              " max               40.000000              39.000000              40.000000   \n",
              " \n",
              "         Entropy_URL  Entropy_Domain  Entropy_DirectoryName  Entropy_Filename  \\\n",
              " count  36707.000000    36707.000000           28239.000000      36471.000000   \n",
              " mean       0.722350        0.842443               0.677459          0.715834   \n",
              " std        0.048820        0.066251               0.450683          0.411712   \n",
              " min        0.419560        0.561913              -1.000000         -1.000000   \n",
              " 25%        0.691929        0.795234               0.731621          0.719904   \n",
              " 50%        0.723003        0.835752               0.790535          0.785150   \n",
              " 75%        0.754305        0.884735               0.851410          0.884662   \n",
              " max        0.895403        1.000000               0.962479          1.000000   \n",
              " \n",
              "        Entropy_Extension  Entropy_Afterpath  \n",
              " count       36667.000000       36701.000000  \n",
              " mean            0.508212          -0.208900  \n",
              " std             0.519695           0.891581  \n",
              " min            -1.000000          -1.000000  \n",
              " 25%             0.000000          -1.000000  \n",
              " 50%             0.729292          -1.000000  \n",
              " 75%             0.910005           0.758695  \n",
              " max             1.000000           1.000000  \n",
              " \n",
              " [8 rows x 79 columns])"
            ]
          },
          "metadata": {},
          "execution_count": 1
        }
      ]
    },
    {
      "cell_type": "code",
      "source": [
        "#Missing Values: These are entries in your dataset where the data is not available (represented as NaN in pandas).\n",
        "missing_values = data.isnull().sum()\n",
        "missing_values[missing_values > 0]\n"
      ],
      "metadata": {
        "colab": {
          "base_uri": "https://localhost:8080/"
        },
        "id": "iWtwIlVD4uIO",
        "outputId": "a16df927-7ffd-42f9-c03d-a971a1dfae87"
      },
      "execution_count": null,
      "outputs": [
        {
          "output_type": "execute_result",
          "data": {
            "text/plain": [
              "avgpathtokenlen               280\n",
              "NumberRate_DirectoryName       10\n",
              "NumberRate_FileName            10\n",
              "NumberRate_Extension        10130\n",
              "NumberRate_AfterPath            3\n",
              "Entropy_DirectoryName        8468\n",
              "Entropy_Filename              236\n",
              "Entropy_Extension              40\n",
              "Entropy_Afterpath               6\n",
              "dtype: int64"
            ]
          },
          "metadata": {},
          "execution_count": 2
        }
      ]
    },
    {
      "cell_type": "code",
      "source": [
        "from sklearn.preprocessing import StandardScaler\n",
        "from sklearn.model_selection import train_test_split\n",
        "import numpy as np\n",
        "\n",
        "# Imputing missing values in numerical columns with mean\n",
        "for column in ['avgpathtokenlen', 'NumberRate_DirectoryName', 'NumberRate_FileName',\n",
        "               'NumberRate_Extension', 'NumberRate_AfterPath', 'Entropy_DirectoryName',\n",
        "               'Entropy_Filename', 'Entropy_Extension', 'Entropy_Afterpath']:\n",
        "    data[column].fillna(data[column].mean(), inplace=True)\n",
        "\n",
        "# Checking if any missing values remain\n",
        "data.isnull().sum().sum()\n"
      ],
      "metadata": {
        "colab": {
          "base_uri": "https://localhost:8080/"
        },
        "id": "-T4_CEA840Yc",
        "outputId": "83c6fe4f-e45e-40cd-831d-7e906b3e93ac"
      },
      "execution_count": null,
      "outputs": [
        {
          "output_type": "execute_result",
          "data": {
            "text/plain": [
              "0"
            ]
          },
          "metadata": {},
          "execution_count": 3
        }
      ]
    },
    {
      "cell_type": "code",
      "source": [
        "import pandas as pd\n",
        "from sklearn.model_selection import train_test_split\n",
        "from sklearn.preprocessing import LabelEncoder\n",
        "from sklearn.ensemble import RandomForestClassifier\n",
        "import numpy as np\n",
        "\n",
        "\n",
        "file_path = '/content/All.csv'\n",
        "data = pd.read_csv(file_path)\n",
        "\n",
        "data = data.dropna()\n",
        "\n",
        "X = data.drop(columns=['URL_Type_obf_Type'])\n",
        "y = data['URL_Type_obf_Type']\n",
        "\n",
        "\n",
        "label_encoder = LabelEncoder()\n",
        "y_encoded = label_encoder.fit_transform(y)\n",
        "\n",
        "\n",
        "X_train, X_test, y_train, y_test = train_test_split(X, y_encoded, test_size=0.3, random_state=42)\n",
        "\n",
        "rf_model = RandomForestClassifier(n_estimators=100, random_state=42)\n",
        "rf_model.fit(X_train, y_train)\n",
        "\n",
        "feature_importances = rf_model.feature_importances_\n",
        "indices = np.argsort(feature_importances)[::-1]\n",
        "\n",
        "feature_names = X.columns\n",
        "\n",
        "# Extract the top 20 features\n",
        "top_20_features = feature_names[indices][:25]\n",
        "top_20_importances = feature_importances[indices][:25]\n",
        "\n",
        "\n",
        "top_25_features_df = pd.DataFrame({\n",
        "    'Feature': top_20_features,\n",
        "    'Importance': top_20_importances\n",
        "})\n",
        "\n",
        "print(top_25_features_df)\n"
      ],
      "metadata": {
        "colab": {
          "base_uri": "https://localhost:8080/"
        },
        "id": "0dNwUQrF41X7",
        "outputId": "c7658df0-f9b7-4b69-df93-15c0112b928e"
      },
      "execution_count": null,
      "outputs": [
        {
          "output_type": "stream",
          "name": "stdout",
          "text": [
            "                    Feature  Importance\n",
            "0         avgdomaintokenlen    0.040538\n",
            "1       NumberRate_FileName    0.031043\n",
            "2     Extension_LetterCount    0.028178\n",
            "3      Extension_DigitCount    0.027313\n",
            "4              domainlength    0.027128\n",
            "5              pathurlRatio    0.026178\n",
            "6                    urlLen    0.025787\n",
            "7        SymbolCount_Domain    0.025245\n",
            "8   CharacterContinuityRate    0.024087\n",
            "9        domain_token_count    0.023021\n",
            "10              fileNameLen    0.022732\n",
            "11               pathLength    0.022573\n",
            "12                subDirLen    0.022143\n",
            "13                      tld    0.022104\n",
            "14           domainUrlRatio    0.020630\n",
            "15   LongestPathTokenLength    0.020625\n",
            "16       longdomaintokenlen    0.020521\n",
            "17           Entropy_Domain    0.020205\n",
            "18          pathDomainRatio    0.019663\n",
            "19        host_letter_count    0.019400\n",
            "20              ArgUrlRatio    0.018964\n",
            "21            argDomanRatio    0.018936\n",
            "22         URL_Letter_Count    0.017704\n",
            "23           NumberRate_URL    0.017614\n",
            "24          avgpathtokenlen    0.016439\n"
          ]
        }
      ]
    },
    {
      "cell_type": "code",
      "source": [
        "import pandas as pd\n",
        "from sklearn.model_selection import train_test_split\n",
        "from sklearn.preprocessing import LabelEncoder\n",
        "from sklearn.ensemble import RandomForestClassifier\n",
        "from sklearn.metrics import accuracy_score, precision_score, f1_score, classification_report\n",
        "import numpy as np\n",
        "\n",
        "file_path = '/content/All.csv'\n",
        "data = pd.read_csv(file_path)\n",
        "\n",
        "# Drop rows with missing values\n",
        "data = data.dropna()\n",
        "\n",
        "X = data.drop(columns=['URL_Type_obf_Type'])\n",
        "y = data['URL_Type_obf_Type']\n",
        "\n",
        "label_encoder = LabelEncoder()\n",
        "y_encoded = label_encoder.fit_transform(y)\n",
        "\n",
        "rf_model = RandomForestClassifier(n_estimators=100, random_state=42)\n",
        "rf_model.fit(X, y_encoded)\n",
        "\n",
        "# Get feature importances\n",
        "feature_importances = rf_model.feature_importances_\n",
        "indices = np.argsort(feature_importances)[::-1]\n",
        "\n",
        "top_20_features = X.columns[indices][:20]\n",
        "X_top_20 = X[top_20_features]\n",
        "\n",
        "X_train, X_test, y_train, y_test = train_test_split(X_top_20, y_encoded, test_size=0.3, random_state=42)\n",
        "\n",
        "rf_model_top_20 = RandomForestClassifier(n_estimators=100, random_state=42)\n",
        "rf_model_top_20.fit(X_train, y_train)\n",
        "\n",
        "# Predict on the test set\n",
        "y_pred = rf_model_top_20.predict(X_test)\n",
        "\n",
        "# Calculate evaluation metrics\n",
        "accuracy = accuracy_score(y_test, y_pred)\n",
        "precision = precision_score(y_test, y_pred, average='weighted')\n",
        "f1 = f1_score(y_test, y_pred, average='weighted')\n",
        "report = classification_report(y_test, y_pred, target_names=label_encoder.classes_)\n",
        "\n",
        "print(f'Accuracy: {accuracy}')\n",
        "print(f'Precision: {precision}')\n",
        "print(f'F1 Score: {f1}')\n",
        "print(f'Classification Report:\\n{report}')\n"
      ],
      "metadata": {
        "colab": {
          "base_uri": "https://localhost:8080/"
        },
        "id": "yV6ELGsbkjjt",
        "outputId": "3c1c07c8-96cf-413a-dff1-4dbfba7e1d3f"
      },
      "execution_count": null,
      "outputs": [
        {
          "output_type": "stream",
          "name": "stdout",
          "text": [
            "Accuracy: 0.9657594381035997\n",
            "Precision: 0.9660841886120671\n",
            "F1 Score: 0.965878430193235\n",
            "Classification Report:\n",
            "              precision    recall  f1-score   support\n",
            "\n",
            "  Defacement       0.98      0.97      0.97       719\n",
            "      benign       0.94      0.96      0.95       806\n",
            "     malware       0.99      0.98      0.98      1347\n",
            "    phishing       0.92      0.93      0.93      1222\n",
            "        spam       0.99      0.98      0.98      1601\n",
            "\n",
            "    accuracy                           0.97      5695\n",
            "   macro avg       0.96      0.96      0.96      5695\n",
            "weighted avg       0.97      0.97      0.97      5695\n",
            "\n"
          ]
        }
      ]
    },
    {
      "cell_type": "code",
      "source": [
        "import pandas as pd\n",
        "import numpy as np\n",
        "from sklearn.model_selection import train_test_split\n",
        "from sklearn.ensemble import RandomForestClassifier\n",
        "from sklearn.metrics import accuracy_score\n",
        "if 'avgdomaintokenlen' in X.columns:\n",
        "    # Remove 'SymbolCount_Domain' from X\n",
        "    X_modified = X.drop(columns=['avgdomaintokenlen'])\n",
        "else:\n",
        "    print(\"'avgdomaintokenlen' not found in X.\")\n",
        "    X_modified = X.copy()  # Make a copy to avoid modifying the original X\n",
        "# Introduce noise or manipulate other features to simulate changes\n",
        "for feature in X_modified.columns:\n",
        "    X_modified[feature] = X_modified[feature] + np.random.normal(0, 0.1, size=len(X_modified))\n",
        "X_train, X_test, y_train, y_test = train_test_split(X_modified, y_encoded, test_size=0.3, random_state=42)\n",
        "rf_model_modified = RandomForestClassifier(n_estimators=100, random_state=42)\n",
        "rf_model_modified.fit(X_train, y_train)\n",
        "y_pred_modified = rf_model_modified.predict(X_test)\n",
        "accuracy_modified = accuracy_score(y_test, y_pred_modified)\n",
        "print(f'Accuracy : {accuracy_modified}')\n"
      ],
      "metadata": {
        "colab": {
          "base_uri": "https://localhost:8080/"
        },
        "id": "7xTZ50FFB7hk",
        "outputId": "840e634c-b73b-448d-e75a-0fbdb7f7e577"
      },
      "execution_count": null,
      "outputs": [
        {
          "output_type": "stream",
          "name": "stdout",
          "text": [
            "Accuracy : 0.9483757682177348\n"
          ]
        }
      ]
    },
    {
      "cell_type": "code",
      "source": [
        "import pandas as pd\n",
        "import numpy as np\n",
        "from sklearn.model_selection import train_test_split\n",
        "from sklearn.ensemble import RandomForestClassifier\n",
        "from sklearn.metrics import accuracy_score\n",
        "if 'domainlength' in X.columns:\n",
        "    # Remove 'SymbolCount_Domain' from X\n",
        "    X_modified = X.drop(columns=['domainlength'])\n",
        "else:\n",
        "    print(\"'domainlength' not found in X.\")\n",
        "    X_modified = X.copy()  # Make a copy to avoid modifying the original X\n",
        "# Introduce noise or manipulate other features to simulate changes\n",
        "for feature in X_modified.columns:\n",
        "    X_modified[feature] = X_modified[feature] + np.random.normal(0, 0.1, size=len(X_modified))\n",
        "X_train, X_test, y_train, y_test = train_test_split(X_modified, y_encoded, test_size=0.3, random_state=42)\n",
        "rf_model_modified = RandomForestClassifier(n_estimators=100, random_state=42)\n",
        "rf_model_modified.fit(X_train, y_train)\n",
        "y_pred_modified = rf_model_modified.predict(X_test)\n",
        "accuracy_modified = accuracy_score(y_test, y_pred_modified)\n",
        "print(f'Accuracy : {accuracy_modified}')\n"
      ],
      "metadata": {
        "colab": {
          "base_uri": "https://localhost:8080/"
        },
        "id": "Frv8C8PICQYk",
        "outputId": "e502f1fe-bdeb-47d2-c91a-3cc424c46fbe"
      },
      "execution_count": null,
      "outputs": [
        {
          "output_type": "stream",
          "name": "stdout",
          "text": [
            "Accuracy : 0.9459174714661984\n"
          ]
        }
      ]
    },
    {
      "cell_type": "code",
      "source": [
        "import pandas as pd\n",
        "import numpy as np\n",
        "from sklearn.model_selection import train_test_split\n",
        "from sklearn.ensemble import RandomForestClassifier\n",
        "from sklearn.metrics import accuracy_score\n",
        "if 'SymbolCount_Domain' in X.columns:\n",
        "    # Remove 'SymbolCount_Domain' from X\n",
        "    X_modified = X.drop(columns=['SymbolCount_Domain'])\n",
        "else:\n",
        "    print(\"'SymbolCount_Domain' not found in X.\")\n",
        "    X_modified = X.copy()  # Make a copy to avoid modifying the original X\n",
        "# Introduce noise or manipulate other features to simulate changes\n",
        "for feature in X_modified.columns:\n",
        "    X_modified[feature] = X_modified[feature] + np.random.normal(0, 0.1, size=len(X_modified))\n",
        "X_train, X_test, y_train, y_test = train_test_split(X_modified, y_encoded, test_size=0.3, random_state=42)\n",
        "rf_model_modified = RandomForestClassifier(n_estimators=100, random_state=42)\n",
        "rf_model_modified.fit(X_train, y_train)\n",
        "y_pred_modified = rf_model_modified.predict(X_test)\n",
        "accuracy_modified = accuracy_score(y_test, y_pred_modified)\n",
        "print(f'Accuracy : {accuracy_modified}')\n"
      ],
      "metadata": {
        "colab": {
          "base_uri": "https://localhost:8080/"
        },
        "id": "CVNFzjhGFYpc",
        "outputId": "37f1d8f4-6a7d-4968-f235-1a188e319212"
      },
      "execution_count": null,
      "outputs": [
        {
          "output_type": "stream",
          "name": "stdout",
          "text": [
            "Accuracy : 0.9467954345917472\n"
          ]
        }
      ]
    },
    {
      "cell_type": "code",
      "source": [
        "import pandas as pd\n",
        "import numpy as np\n",
        "from sklearn.model_selection import train_test_split\n",
        "from sklearn.ensemble import RandomForestClassifier\n",
        "from sklearn.metrics import accuracy_score\n",
        "\n",
        "if 'avgdomaintokenlen' in X.columns and 'SymbolCount_Domain' in X.columns and 'domainlength' in X.columns:\n",
        "    # Remove 'SymbolCount_Domain' and 'domainlength' from X\n",
        "    X_modified = X.drop(columns=['avgdomaintokenlen','SymbolCount_Domain', 'domainlength'])\n",
        "else:\n",
        "    print(\"'SymbolCount_Domain' not found in X.\")\n",
        "    X_modified = X.copy()  # Make a copy to avoid modifying the original X\n",
        "# Introduce noise or manipulate other features to simulate changes\n",
        "for feature in X_modified.columns:\n",
        "    X_modified[feature] = X_modified[feature] + np.random.normal(0, 0.1, size=len(X_modified))\n",
        "X_train, X_test, y_train, y_test = train_test_split(X_modified, y_encoded, test_size=0.3, random_state=42)\n",
        "rf_model_modified = RandomForestClassifier(n_estimators=100, random_state=42)\n",
        "rf_model_modified.fit(X_train, y_train)\n",
        "y_pred_modified = rf_model_modified.predict(X_test)\n",
        "accuracy_modified = accuracy_score(y_test, y_pred_modified)\n",
        "print(f'Accuracy : {accuracy_modified}')\n"
      ],
      "metadata": {
        "colab": {
          "base_uri": "https://localhost:8080/"
        },
        "id": "VvqeaLXVDtr7",
        "outputId": "447f7aff-30ac-427b-a976-0e4f98a4d784"
      },
      "execution_count": null,
      "outputs": [
        {
          "output_type": "stream",
          "name": "stdout",
          "text": [
            "Accuracy : 0.9450395083406496\n"
          ]
        }
      ]
    },
    {
      "cell_type": "code",
      "source": [
        "import pandas as pd\n",
        "import numpy as np\n",
        "from sklearn.model_selection import train_test_split\n",
        "from sklearn.ensemble import RandomForestClassifier\n",
        "from sklearn.metrics import accuracy_score\n",
        "\n",
        "if 'avgdomaintokenlen' in X.columns and 'SymbolCount_Domain' in X.columns and 'urlLen' in X.columns and 'domainlength' in X.columns:\n",
        "    # Remove 'SymbolCount_Domain' and 'domainlength' from X\n",
        "    X_modified = X.drop(columns=['avgdomaintokenlen','SymbolCount_Domain','urlLen','domainlength'])\n",
        "else:\n",
        "    print(\"'SymbolCount_Domain' not found in X.\")\n",
        "    X_modified = X.copy()  # Make a copy to avoid modifying the original X\n",
        "# Introduce noise or manipulate other features to simulate changes\n",
        "for feature in X_modified.columns:\n",
        "    X_modified[feature] = X_modified[feature] + np.random.normal(0, 0.1, size=len(X_modified))\n",
        "X_train, X_test, y_train, y_test = train_test_split(X_modified, y_encoded, test_size=0.3, random_state=42)\n",
        "rf_model_modified = RandomForestClassifier(n_estimators=100, random_state=42)\n",
        "rf_model_modified.fit(X_train, y_train)\n",
        "y_pred_modified = rf_model_modified.predict(X_test)\n",
        "accuracy_modified = accuracy_score(y_test, y_pred_modified)\n",
        "print(f'Accuracy : {accuracy_modified}')\n"
      ],
      "metadata": {
        "colab": {
          "base_uri": "https://localhost:8080/"
        },
        "id": "by-LMIadHX3x",
        "outputId": "724af0f3-48aa-46b2-e7ce-3e67c1d5ddef"
      },
      "execution_count": null,
      "outputs": [
        {
          "output_type": "stream",
          "name": "stdout",
          "text": [
            "Accuracy : 0.944161545215101\n"
          ]
        }
      ]
    }
  ]
}